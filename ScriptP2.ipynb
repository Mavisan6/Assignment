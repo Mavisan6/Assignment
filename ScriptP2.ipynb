{
 "cells": [
  {
   "cell_type": "code",
   "execution_count": 1,
   "id": "df61781d-826c-4f30-ba90-b0929aa861cf",
   "metadata": {},
   "outputs": [],
   "source": [
    "%matplotlib inline\n",
    "\n",
    "import os\n",
    "import shapely\n",
    "import earthaccess\n",
    "import numpy as np\n",
    "import rasterio as rio\n",
    "import pandas as pd\n",
    "import geopandas as gpd\n",
    "import matplotlib.pyplot as plt"
   ]
  },
  {
   "cell_type": "code",
   "execution_count": 4,
   "id": "9b866539-be7c-4d9d-8ed8-68833c9da994",
   "metadata": {},
   "outputs": [
    {
     "ename": "DriverError",
     "evalue": "Assignment/Data_files/Area_of_interest.shp: No such file or directory",
     "output_type": "error",
     "traceback": [
      "\u001b[1;31m---------------------------------------------------------------------------\u001b[0m",
      "\u001b[1;31mCPLE_OpenFailedError\u001b[0m                      Traceback (most recent call last)",
      "File \u001b[1;32mfiona\\\\ogrext.pyx:136\u001b[0m, in \u001b[0;36mfiona.ogrext.gdal_open_vector\u001b[1;34m()\u001b[0m\n",
      "File \u001b[1;32mfiona\\\\_err.pyx:291\u001b[0m, in \u001b[0;36mfiona._err.exc_wrap_pointer\u001b[1;34m()\u001b[0m\n",
      "\u001b[1;31mCPLE_OpenFailedError\u001b[0m: Assignment/Data_files/Area_of_interest.shp: No such file or directory",
      "\nDuring handling of the above exception, another exception occurred:\n",
      "\u001b[1;31mDriverError\u001b[0m                               Traceback (most recent call last)",
      "Cell \u001b[1;32mIn[4], line 3\u001b[0m\n\u001b[0;32m      1\u001b[0m \u001b[38;5;66;03m# Load the search area polygon (replace 'search_area.shp' with your actual shapefile)\u001b[39;00m\n\u001b[0;32m      2\u001b[0m AOI_path \u001b[38;5;241m=\u001b[39m \u001b[38;5;124m'\u001b[39m\u001b[38;5;124mAssignment/Data_files/Area_of_interest.shp\u001b[39m\u001b[38;5;124m'\u001b[39m\n\u001b[1;32m----> 3\u001b[0m AOI \u001b[38;5;241m=\u001b[39m \u001b[43mgpd\u001b[49m\u001b[38;5;241;43m.\u001b[39;49m\u001b[43mread_file\u001b[49m\u001b[43m(\u001b[49m\u001b[43mAOI_path\u001b[49m\u001b[43m)\u001b[49m\n",
      "File \u001b[1;32m~\\anaconda3\\envs\\Assignment\\Lib\\site-packages\\geopandas\\io\\file.py:297\u001b[0m, in \u001b[0;36m_read_file\u001b[1;34m(filename, bbox, mask, rows, engine, **kwargs)\u001b[0m\n\u001b[0;32m    294\u001b[0m     \u001b[38;5;28;01melse\u001b[39;00m:\n\u001b[0;32m    295\u001b[0m         path_or_bytes \u001b[38;5;241m=\u001b[39m filename\n\u001b[1;32m--> 297\u001b[0m     \u001b[38;5;28;01mreturn\u001b[39;00m \u001b[43m_read_file_fiona\u001b[49m\u001b[43m(\u001b[49m\n\u001b[0;32m    298\u001b[0m \u001b[43m        \u001b[49m\u001b[43mpath_or_bytes\u001b[49m\u001b[43m,\u001b[49m\u001b[43m \u001b[49m\u001b[43mfrom_bytes\u001b[49m\u001b[43m,\u001b[49m\u001b[43m \u001b[49m\u001b[43mbbox\u001b[49m\u001b[38;5;241;43m=\u001b[39;49m\u001b[43mbbox\u001b[49m\u001b[43m,\u001b[49m\u001b[43m \u001b[49m\u001b[43mmask\u001b[49m\u001b[38;5;241;43m=\u001b[39;49m\u001b[43mmask\u001b[49m\u001b[43m,\u001b[49m\u001b[43m \u001b[49m\u001b[43mrows\u001b[49m\u001b[38;5;241;43m=\u001b[39;49m\u001b[43mrows\u001b[49m\u001b[43m,\u001b[49m\u001b[43m \u001b[49m\u001b[38;5;241;43m*\u001b[39;49m\u001b[38;5;241;43m*\u001b[39;49m\u001b[43mkwargs\u001b[49m\n\u001b[0;32m    299\u001b[0m \u001b[43m    \u001b[49m\u001b[43m)\u001b[49m\n\u001b[0;32m    301\u001b[0m \u001b[38;5;28;01melse\u001b[39;00m:\n\u001b[0;32m    302\u001b[0m     \u001b[38;5;28;01mraise\u001b[39;00m \u001b[38;5;167;01mValueError\u001b[39;00m(\u001b[38;5;124mf\u001b[39m\u001b[38;5;124m\"\u001b[39m\u001b[38;5;124munknown engine \u001b[39m\u001b[38;5;124m'\u001b[39m\u001b[38;5;132;01m{\u001b[39;00mengine\u001b[38;5;132;01m}\u001b[39;00m\u001b[38;5;124m'\u001b[39m\u001b[38;5;124m\"\u001b[39m)\n",
      "File \u001b[1;32m~\\anaconda3\\envs\\Assignment\\Lib\\site-packages\\geopandas\\io\\file.py:338\u001b[0m, in \u001b[0;36m_read_file_fiona\u001b[1;34m(path_or_bytes, from_bytes, bbox, mask, rows, where, **kwargs)\u001b[0m\n\u001b[0;32m    335\u001b[0m     reader \u001b[38;5;241m=\u001b[39m fiona\u001b[38;5;241m.\u001b[39mopen\n\u001b[0;32m    337\u001b[0m \u001b[38;5;28;01mwith\u001b[39;00m fiona_env():\n\u001b[1;32m--> 338\u001b[0m     \u001b[38;5;28;01mwith\u001b[39;00m \u001b[43mreader\u001b[49m\u001b[43m(\u001b[49m\u001b[43mpath_or_bytes\u001b[49m\u001b[43m,\u001b[49m\u001b[43m \u001b[49m\u001b[38;5;241;43m*\u001b[39;49m\u001b[38;5;241;43m*\u001b[39;49m\u001b[43mkwargs\u001b[49m\u001b[43m)\u001b[49m \u001b[38;5;28;01mas\u001b[39;00m features:\n\u001b[0;32m    339\u001b[0m         crs \u001b[38;5;241m=\u001b[39m features\u001b[38;5;241m.\u001b[39mcrs_wkt\n\u001b[0;32m    340\u001b[0m         \u001b[38;5;66;03m# attempt to get EPSG code\u001b[39;00m\n",
      "File \u001b[1;32m~\\anaconda3\\envs\\Assignment\\Lib\\site-packages\\fiona\\env.py:457\u001b[0m, in \u001b[0;36mensure_env_with_credentials.<locals>.wrapper\u001b[1;34m(*args, **kwds)\u001b[0m\n\u001b[0;32m    454\u001b[0m     session \u001b[38;5;241m=\u001b[39m DummySession()\n\u001b[0;32m    456\u001b[0m \u001b[38;5;28;01mwith\u001b[39;00m env_ctor(session\u001b[38;5;241m=\u001b[39msession):\n\u001b[1;32m--> 457\u001b[0m     \u001b[38;5;28;01mreturn\u001b[39;00m \u001b[43mf\u001b[49m\u001b[43m(\u001b[49m\u001b[38;5;241;43m*\u001b[39;49m\u001b[43margs\u001b[49m\u001b[43m,\u001b[49m\u001b[43m \u001b[49m\u001b[38;5;241;43m*\u001b[39;49m\u001b[38;5;241;43m*\u001b[39;49m\u001b[43mkwds\u001b[49m\u001b[43m)\u001b[49m\n",
      "File \u001b[1;32m~\\anaconda3\\envs\\Assignment\\Lib\\site-packages\\fiona\\__init__.py:292\u001b[0m, in \u001b[0;36mopen\u001b[1;34m(fp, mode, driver, schema, crs, encoding, layer, vfs, enabled_drivers, crs_wkt, allow_unsupported_drivers, **kwargs)\u001b[0m\n\u001b[0;32m    289\u001b[0m     path \u001b[38;5;241m=\u001b[39m parse_path(fp)\n\u001b[0;32m    291\u001b[0m \u001b[38;5;28;01mif\u001b[39;00m mode \u001b[38;5;129;01min\u001b[39;00m (\u001b[38;5;124m\"\u001b[39m\u001b[38;5;124ma\u001b[39m\u001b[38;5;124m\"\u001b[39m, \u001b[38;5;124m\"\u001b[39m\u001b[38;5;124mr\u001b[39m\u001b[38;5;124m\"\u001b[39m):\n\u001b[1;32m--> 292\u001b[0m     colxn \u001b[38;5;241m=\u001b[39m \u001b[43mCollection\u001b[49m\u001b[43m(\u001b[49m\n\u001b[0;32m    293\u001b[0m \u001b[43m        \u001b[49m\u001b[43mpath\u001b[49m\u001b[43m,\u001b[49m\n\u001b[0;32m    294\u001b[0m \u001b[43m        \u001b[49m\u001b[43mmode\u001b[49m\u001b[43m,\u001b[49m\n\u001b[0;32m    295\u001b[0m \u001b[43m        \u001b[49m\u001b[43mdriver\u001b[49m\u001b[38;5;241;43m=\u001b[39;49m\u001b[43mdriver\u001b[49m\u001b[43m,\u001b[49m\n\u001b[0;32m    296\u001b[0m \u001b[43m        \u001b[49m\u001b[43mencoding\u001b[49m\u001b[38;5;241;43m=\u001b[39;49m\u001b[43mencoding\u001b[49m\u001b[43m,\u001b[49m\n\u001b[0;32m    297\u001b[0m \u001b[43m        \u001b[49m\u001b[43mlayer\u001b[49m\u001b[38;5;241;43m=\u001b[39;49m\u001b[43mlayer\u001b[49m\u001b[43m,\u001b[49m\n\u001b[0;32m    298\u001b[0m \u001b[43m        \u001b[49m\u001b[43menabled_drivers\u001b[49m\u001b[38;5;241;43m=\u001b[39;49m\u001b[43menabled_drivers\u001b[49m\u001b[43m,\u001b[49m\n\u001b[0;32m    299\u001b[0m \u001b[43m        \u001b[49m\u001b[43mallow_unsupported_drivers\u001b[49m\u001b[38;5;241;43m=\u001b[39;49m\u001b[43mallow_unsupported_drivers\u001b[49m\u001b[43m,\u001b[49m\n\u001b[0;32m    300\u001b[0m \u001b[43m        \u001b[49m\u001b[38;5;241;43m*\u001b[39;49m\u001b[38;5;241;43m*\u001b[39;49m\u001b[43mkwargs\u001b[49m\n\u001b[0;32m    301\u001b[0m \u001b[43m    \u001b[49m\u001b[43m)\u001b[49m\n\u001b[0;32m    302\u001b[0m \u001b[38;5;28;01melif\u001b[39;00m mode \u001b[38;5;241m==\u001b[39m \u001b[38;5;124m\"\u001b[39m\u001b[38;5;124mw\u001b[39m\u001b[38;5;124m\"\u001b[39m:\n\u001b[0;32m    303\u001b[0m     colxn \u001b[38;5;241m=\u001b[39m Collection(\n\u001b[0;32m    304\u001b[0m         path,\n\u001b[0;32m    305\u001b[0m         mode,\n\u001b[1;32m   (...)\u001b[0m\n\u001b[0;32m    314\u001b[0m         \u001b[38;5;241m*\u001b[39m\u001b[38;5;241m*\u001b[39mkwargs\n\u001b[0;32m    315\u001b[0m     )\n",
      "File \u001b[1;32m~\\anaconda3\\envs\\Assignment\\Lib\\site-packages\\fiona\\collection.py:243\u001b[0m, in \u001b[0;36mCollection.__init__\u001b[1;34m(self, path, mode, driver, schema, crs, encoding, layer, vsi, archive, enabled_drivers, crs_wkt, ignore_fields, ignore_geometry, include_fields, wkt_version, allow_unsupported_drivers, **kwargs)\u001b[0m\n\u001b[0;32m    241\u001b[0m \u001b[38;5;28;01mif\u001b[39;00m \u001b[38;5;28mself\u001b[39m\u001b[38;5;241m.\u001b[39mmode \u001b[38;5;241m==\u001b[39m \u001b[38;5;124m\"\u001b[39m\u001b[38;5;124mr\u001b[39m\u001b[38;5;124m\"\u001b[39m:\n\u001b[0;32m    242\u001b[0m     \u001b[38;5;28mself\u001b[39m\u001b[38;5;241m.\u001b[39msession \u001b[38;5;241m=\u001b[39m Session()\n\u001b[1;32m--> 243\u001b[0m     \u001b[38;5;28;43mself\u001b[39;49m\u001b[38;5;241;43m.\u001b[39;49m\u001b[43msession\u001b[49m\u001b[38;5;241;43m.\u001b[39;49m\u001b[43mstart\u001b[49m\u001b[43m(\u001b[49m\u001b[38;5;28;43mself\u001b[39;49m\u001b[43m,\u001b[49m\u001b[43m \u001b[49m\u001b[38;5;241;43m*\u001b[39;49m\u001b[38;5;241;43m*\u001b[39;49m\u001b[43mkwargs\u001b[49m\u001b[43m)\u001b[49m\n\u001b[0;32m    244\u001b[0m \u001b[38;5;28;01melif\u001b[39;00m \u001b[38;5;28mself\u001b[39m\u001b[38;5;241m.\u001b[39mmode \u001b[38;5;129;01min\u001b[39;00m (\u001b[38;5;124m\"\u001b[39m\u001b[38;5;124ma\u001b[39m\u001b[38;5;124m\"\u001b[39m, \u001b[38;5;124m\"\u001b[39m\u001b[38;5;124mw\u001b[39m\u001b[38;5;124m\"\u001b[39m):\n\u001b[0;32m    245\u001b[0m     \u001b[38;5;28mself\u001b[39m\u001b[38;5;241m.\u001b[39msession \u001b[38;5;241m=\u001b[39m WritingSession()\n",
      "File \u001b[1;32mfiona\\\\ogrext.pyx:588\u001b[0m, in \u001b[0;36mfiona.ogrext.Session.start\u001b[1;34m()\u001b[0m\n",
      "File \u001b[1;32mfiona\\\\ogrext.pyx:143\u001b[0m, in \u001b[0;36mfiona.ogrext.gdal_open_vector\u001b[1;34m()\u001b[0m\n",
      "\u001b[1;31mDriverError\u001b[0m: Assignment/Data_files/Area_of_interest.shp: No such file or directory"
     ]
    }
   ],
   "source": [
    "# Load the search area polygon (replace 'search_area.shp' with your actual shapefile)\n",
    "AOI_path = 'Data_files/Area_of_interest.shp'\n",
    "AOI = gpd.read_file(AOI_path)"
   ]
  },
  {
   "cell_type": "code",
   "execution_count": null,
   "id": "0e1b0e51-d65b-44d2-8609-1ce13a69548e",
   "metadata": {},
   "outputs": [],
   "source": [
    "# Check if the CRS is a projected coordinate system (not WGS84)\n",
    "if AOI_gdf.crs != 'epsg:4326':\n",
    "    print(\"Attention: The coordinate system of 'search_area' must be in geographic coordinates (WGS84, EPSG:4326). \"\n",
    "          \"Please convert the CRS to WGS84 before proceeding with earthaccess data search to prevent runtime errors.\")\n",
    "else:\n",
    "    print(\"The CRS of 'search_area' is correctly set to WGS84 (EPSG:4326). Proceeding with earthaccess data search.\")"
   ]
  },
  {
   "cell_type": "code",
   "execution_count": null,
   "id": "0e4af5fa-aef5-4cd6-a865-1a1c56cf9e00",
   "metadata": {},
   "outputs": [],
   "source": [
    "# You need to set the CRS for 'AOI_gdf' before transforming it\n",
    "AOI.crs = {'init': 'epsg:32633'}\n",
    "\n",
    "# Transform the CRS to WGS84 (EPSG:4326)\n",
    "AOI_wgs84 = AOI.to_crs('+proj=longlat +datum=WGS84')"
   ]
  },
  {
   "cell_type": "code",
   "execution_count": null,
   "id": "ab739730-eba4-409e-b2c7-d002e62834cd",
   "metadata": {},
   "outputs": [],
   "source": [
    "AOI_wgs84.crs"
   ]
  },
  {
   "cell_type": "code",
   "execution_count": null,
   "id": "a8253bfb-270e-402b-910b-844026f42648",
   "metadata": {},
   "outputs": [],
   "source": [
    "earthaccess.login(strategy='netrc')\n",
    "\n",
    "outline = AOI_wgs84['geometry'].unary_union\n",
    "\n",
    "# get the min x, min y, max x, max y values of the Area of Interest\n",
    "outline.bounds\n",
    "\n",
    "search_area = shapely.geometry.polygon.orient(outline, sign=1) # a sign of 1 means oriented counter-clockwise\n",
    "\n",
    "search_area # this doesn't actually change the geometry, just the order of the vertices"
   ]
  },
  {
   "cell_type": "code",
   "execution_count": null,
   "id": "24421868-6a3f-43c3-a909-b15f69998af4",
   "metadata": {},
   "outputs": [],
   "source": [
    "from earthaccess import DataCollections\n",
    "import datetime\n",
    "\n",
    "# Define the time range for the data search\n",
    "start_date = datetime.datetime(2022, 1, 1)\n",
    "end_date = datetime.datetime(2022, 12, 31)"
   ]
  },
  {
   "cell_type": "code",
   "execution_count": null,
   "id": "c6fcb990-fbaf-417a-9998-853ec7e54566",
   "metadata": {},
   "outputs": [],
   "source": [
    "datasets = earthaccess.search_datasets(\n",
    "    keyword=\"Sentinel-2\", # search for datasets that match the keyword \"Sentinel-2\"\n",
    "    polygon=search_area.exterior.coords, # search for datasets that intersect AOI,\n",
    "    temporal=(start_date, end_date)\n",
    ")"
   ]
  },
  {
   "cell_type": "code",
   "execution_count": null,
   "id": "8d819c7d-e0c7-4d1b-92e3-6efa0b0c6d13",
   "metadata": {},
   "outputs": [],
   "source": [
    "dataset = datasets[0] # get the first result\n",
    "dataset.get_umm('EntryTitle') # fill this in with the metadata field that you want"
   ]
  },
  {
   "cell_type": "code",
   "execution_count": null,
   "id": "a9407ff1-2d7d-432c-bbe7-533c3a4e5c61",
   "metadata": {},
   "outputs": [],
   "source": [
    "ds_name = dataset.get_umm('ShortName') # fill in the following with the correct field name to return the short name of the dataset\n",
    "\n",
    "print(f\"Dataset short name: {ds_name}\")"
   ]
  },
  {
   "cell_type": "code",
   "execution_count": null,
   "id": "cb67c364-462f-4f58-a2ae-2758678a3d97",
   "metadata": {},
   "outputs": [],
   "source": [
    "results = earthaccess.search_data(\n",
    "    short_name=ds_name, # search for Sentinel-2 granules\n",
    "    polygon=search_area.exterior.coords, # search for images that intersect our AOI\n",
    "    count=10, # only show the first 10 results\n",
    "    temporal=(start_date, end_date)\n",
    ")"
   ]
  },
  {
   "cell_type": "code",
   "execution_count": null,
   "id": "c4b64dcb-9b8e-4b53-a9f0-cfb66198f7ec",
   "metadata": {},
   "outputs": [],
   "source": [
    "granule = results[1]  # Indexing starts at 0, so 1 is the second item\n",
    "granule"
   ]
  },
  {
   "cell_type": "code",
   "execution_count": null,
   "id": "1f527de5-8689-4a61-ac6d-0220351df29e",
   "metadata": {},
   "outputs": [],
   "source": [
    "# Define the path to the Data_files directory\n",
    "data_files_directory = \"Data_files\"\n",
    "\n",
    "# Create the full path for the new directory inside Data_files\n",
    "new_directory_path = os.path.join(data_files_directory, ds_name)\n",
    "\n",
    "# Create the new folder inside Data_files\n",
    "os.makedirs(new_directory_path, exist_ok=True)\n",
    "\n",
    "# Download the second granule into the new directory\n",
    "downloaded_file = earthaccess.download([granule], new_directory_path)"
   ]
  },
  {
   "cell_type": "code",
   "execution_count": null,
   "id": "f65e034d-a020-4261-88d2-e16c94b42a67",
   "metadata": {},
   "outputs": [],
   "source": [
    "# Open the raster file and check its CRS\n",
    "src = rasterio.open('Data_files/HLSS30/HLS.S30.T33TXF.2022004T094309.v2.0.B04.tif')\n",
    "\n",
    "src.crs"
   ]
  },
  {
   "cell_type": "code",
   "execution_count": null,
   "id": "cd7d26e2-bc8b-40d8-9546-4d6607c201a2",
   "metadata": {},
   "outputs": [],
   "source": [
    "from rasterio.mask import mask\n",
    "\n",
    "# Open the red and NIR bands\n",
    "with rasterio.open('Data_files/HLSS30/HLS.S30.T33TXF.2022004T094309.v2.0.B04.tif') as red_src, \\\n",
    "     rasterio.open('Data_files/HLSS30/HLS.S30.T33TXF.2022004T094309.v2.0.B08.tif') as nir_src:\n",
    "\n",
    "    # Read the raster data for the bands\n",
    "    red = red_src.read(1)\n",
    "    nir = nir_src.read(1)\n",
    "\n",
    "    # Calculate NDVI\n",
    "    ndvi = (nir - red) / (nir + red)\n",
    "\n",
    "    # Plot NDVI\n",
    "    plt.imshow(ndvi, cmap='RdYlGn', vmin=-1, vmax=1)\n",
    "    plt.colorbar()\n",
    "    plt.title('NDVI Image')\n",
    "    plt.show()"
   ]
  },
  {
   "cell_type": "code",
   "execution_count": null,
   "id": "3f0b7a5f-51b6-4d47-ae5d-76d39637bf82",
   "metadata": {},
   "outputs": [],
   "source": [
    "# Define the output path for the NDVI raster file\n",
    "output_ndvi_path = 'Data_files/NDVI_output.tif'\n",
    "\n",
    "# Create a new raster file for the NDVI data\n",
    "with rasterio.open(output_ndvi_path, 'w', driver='GTiff', height=ndvi.shape[0], width=ndvi.shape[1],\n",
    "                       count=1, dtype=ndvi.dtype, crs=red_src.crs, transform=red_src.transform) as dst:\n",
    "    dst.write(ndvi, 1)\n",
    "\n",
    "print(f\"NDVI data saved to {output_ndvi_path}\")"
   ]
  },
  {
   "cell_type": "code",
   "execution_count": null,
   "id": "ef53a064-0af9-4aa3-a67c-f138b4adaeda",
   "metadata": {},
   "outputs": [],
   "source": [
    "# Load the NDVI raster (replace 'Data_files/NDVI_output.tif' with your actual NDVI raster file)\n",
    "ndvi_path = 'Data_files/NDVI_output.tif'\n",
    "with rio.open(ndvi_path) as ndvi_src:\n",
    "    ndvi_data = ndvi_src.read(1)\n",
    "    ndvi_transform = ndvi_src.transform\n",
    "\n",
    "    # Load the search area polygon (replace 'search_area.shp' with your actual shapefile)\n",
    "    #AOI_path = 'Data_files/Area_of_interest.shp'\n",
    "    #AOI = gpd.read_file(AOI_path)\n",
    "\n",
    "    # Clip the NDVI data to the search area\n",
    "    clipped_ndvi_data, clipped_ndvi_transform = mask(ndvi_src, shapes=AOI.geometry, crop=True)\n",
    "\n",
    "    # Define the output path for the clipped NDVI raster file\n",
    "    clipped_ndvi_path = 'Data_files/clipped_ndvi.tif'\n",
    "    with rasterio.open(clipped_ndvi_path, 'w', **ndvi_src.meta) as clipped_ndvi_dst:\n",
    "        clipped_ndvi_dst.write(clipped_ndvi_data)\n",
    "\n",
    "    print(f\"Clipped NDVI saved to {clipped_ndvi_path}\")"
   ]
  },
  {
   "cell_type": "code",
   "execution_count": null,
   "id": "a5f4d4e0-2546-42ff-8b62-91e583c84d6e",
   "metadata": {},
   "outputs": [],
   "source": [
    "# Plot the clipped NDVI\n",
    "plt.imshow(clipped_ndvi_data[0], cmap='RdYlGn', vmin=-1, vmax=1)\n",
    "plt.colorbar()\n",
    "plt.title('Clipped NDVI Image')\n",
    "plt.show()"
   ]
  },
  {
   "cell_type": "code",
   "execution_count": null,
   "id": "96e0f078-cf34-4ddd-bc46-b580b89348bd",
   "metadata": {},
   "outputs": [],
   "source": [
    "# Define the directory where the Sentinel files are located\n",
    "directory = \"C:\\\\Users\\\\M533\\\\Assignment\\\\HLSS30\"\n",
    "\n",
    "# Function to delete files in a directory\n",
    "def delete_sentinel_files(directory):\n",
    "    try:\n",
    "        # List all files in the directory\n",
    "        files = os.listdir(directory)\n",
    "        # Iterate over each file\n",
    "        for file in files:\n",
    "            # Construct full file path\n",
    "            file_path = os.path.join(directory, file)\n",
    "            # Check if it's a Sentinel file based on the extension\n",
    "            if file_path.endswith('.tif'):\n",
    "                # Delete the file\n",
    "                os.remove(file_path)\n",
    "                print(f\"Deleted: {file_path}\")\n",
    "    except Exception as e:\n",
    "        # Print the error message\n",
    "        print(f\"Deletion failed: {e}\")\n",
    "\n",
    "# Call the function to delete the Sentinel files\n",
    "delete_sentinel_files(directory)"
   ]
  }
 ],
 "metadata": {
  "kernelspec": {
   "display_name": "Python 3 (ipykernel)",
   "language": "python",
   "name": "python3"
  },
  "language_info": {
   "codemirror_mode": {
    "name": "ipython",
    "version": 3
   },
   "file_extension": ".py",
   "mimetype": "text/x-python",
   "name": "python",
   "nbconvert_exporter": "python",
   "pygments_lexer": "ipython3",
   "version": "3.12.3"
  }
 },
 "nbformat": 4,
 "nbformat_minor": 5
}
