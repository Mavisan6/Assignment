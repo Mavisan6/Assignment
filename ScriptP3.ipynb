{
 "cells": [
  {
   "cell_type": "code",
   "execution_count": null,
   "id": "49ea1f5e-24ba-4a6f-a265-3d67ad96bcdb",
   "metadata": {},
   "outputs": [],
   "source": [
    "import rasterio\n",
    "import rasterstats\n",
    "\n",
    "\n",
    "\n",
    "#Open the .tif which contains the NDVI calculation with rasterio\n",
    "ndvipath=\"Data_files/clipped_ndvi.tif\"\n",
    "ndvix=rasterio.open(ndvipath)\n",
    "    \n",
    "#Make our projected overlay vector the same CRS as the imagery\n",
    "temp = merged.to_crs(crs=ndvix.crs.data)\n",
    "    \n",
    "#Define the parameters to calculate the zonal stats\n",
    "array = ndvix.read(1)\n",
    "affine = ndvix.transform\n",
    "zs_ndvix = zonal_stats(temp, array, affine=affine, stats=['mean', 'min', 'max', 'std'])\n",
    "    \n",
    "#Append the results to a pandas' dataframe\n",
    "ndviframe = pd.DataFrame(zs_ndvix)\n",
    "resultado = resultado.join(ndviframe, rsuffix='_'+str(i))\n",
    "\n",
    "resultado"
   ]
  }
 ],
 "metadata": {
  "kernelspec": {
   "display_name": "Python 3 (ipykernel)",
   "language": "python",
   "name": "python3"
  },
  "language_info": {
   "codemirror_mode": {
    "name": "ipython",
    "version": 3
   },
   "file_extension": ".py",
   "mimetype": "text/x-python",
   "name": "python",
   "nbconvert_exporter": "python",
   "pygments_lexer": "ipython3",
   "version": "3.12.3"
  }
 },
 "nbformat": 4,
 "nbformat_minor": 5
}
