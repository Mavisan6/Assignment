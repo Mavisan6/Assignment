{
 "cells": [
  {
   "cell_type": "code",
   "execution_count": 1,
   "id": "c312e750-6f79-4a2d-a857-125e07d4c2d9",
   "metadata": {},
   "outputs": [],
   "source": [
    "%matplotlib inline\n",
    "\n",
    "import os\n",
    "import numpy as np\n",
    "import rasterio as rio\n",
    "import pandas as pd\n",
    "import geopandas as gpd\n",
    "import matplotlib.pyplot as plt\n",
    "import folium"
   ]
  },
  {
   "cell_type": "code",
   "execution_count": 3,
   "id": "c8c3431d-fb2c-4170-b6dc-1664edd50f7d",
   "metadata": {},
   "outputs": [],
   "source": [
    "# Load the AOI polygon\n",
    "AOI_path = 'Data_files/Area_of_interest.shp'\n",
    "AOI = gpd.read_file(AOI_path)\n",
    "\n",
    "#load the join shapefile\n",
    "join_path = 'Data_files/joined_with_area.shp'\n",
    "join = gpd.read_file(join_path)\n",
    "\n",
    "# Load the clipped NDVI raster\n",
    "ndvi_path = 'Data_files/clipped_ndvi.tif'"
   ]
  },
  {
   "cell_type": "code",
   "execution_count": 4,
   "id": "78f9ed5a-9987-4f85-803f-13f0f716201a",
   "metadata": {},
   "outputs": [
    {
     "name": "stdout",
     "output_type": "stream",
     "text": [
      "Latitude: 4528774.390699869, Longitude: 628697.575125249\n"
     ]
    }
   ],
   "source": [
    "# Calculate the centroid of the area of interest\n",
    "centroid = AOI.geometry.centroid\n",
    "center_lat, center_lon = centroid.y.iloc[0], centroid.x.iloc[0]\n",
    "print(f\"Latitude: {center_lat}, Longitude: {center_lon}\")"
   ]
  },
  {
   "cell_type": "code",
   "execution_count": 5,
   "id": "1e5c49e5-7cad-401b-baec-a0fac1d1d268",
   "metadata": {},
   "outputs": [
    {
     "name": "stdout",
     "output_type": "stream",
     "text": [
      "Latitude: 40.89995038970218, Longitude: 16.52793000194325\n"
     ]
    }
   ],
   "source": [
    "import pyproj\n",
    "\n",
    "# Define the UTM zone (e.g., UTM Zone 33N for Europe)\n",
    "utm_zone = 33\n",
    "\n",
    "# Create a UTM to latitude-longitude (WGS84) transformer\n",
    "utm_to_wgs84 = pyproj.Transformer.from_crs(f'EPSG:326{utm_zone}', 'EPSG:4326', always_xy=True)\n",
    "\n",
    "# Your provided UTM coordinates\n",
    "utm_x, utm_y = center_lon, center_lat\n",
    "\n",
    "# Convert to latitude and longitude\n",
    "lon, lat = utm_to_wgs84.transform(utm_x, utm_y)\n",
    "\n",
    "print(f\"Latitude: {lat}, Longitude: {lon}\")"
   ]
  },
  {
   "cell_type": "code",
   "execution_count": 15,
   "id": "537998f3-bf66-4364-9955-28375475d559",
   "metadata": {},
   "outputs": [],
   "source": [
    "with rio.open(ndvi_path) as ndvi_src:\n",
    "    ndvi_data = ndvi_src.read(1)\n",
    "\n",
    "# Create a Folium map centered at a specific location (e.g., latitude, longitude)\n",
    "folium_map = folium.Map(location=[lat, lon], zoom_start=11)"
   ]
  },
  {
   "cell_type": "code",
   "execution_count": 16,
   "id": "64c9b92b-52c7-4ae4-b364-33f144852c99",
   "metadata": {},
   "outputs": [],
   "source": [
    "# Transform the CRS to WGS84 (EPSG:4326)\n",
    "AOI_wgs84 = AOI.to_crs('+proj=longlat +datum=WGS84')"
   ]
  },
  {
   "cell_type": "code",
   "execution_count": null,
   "id": "1be99b27-19de-46b3-a4ee-ede93e55da97",
   "metadata": {},
   "outputs": [],
   "source": [
    "import matplotlib.colors as mpl_colors  # Import the mpl_colors module\n",
    "\n",
    "AOI_geojson = AOI_wgs84.__geo_interface__\n",
    "\n",
    "# Define custom colormap (adjust as needed)\n",
    "cmap = plt.get_cmap('RdYlGn')  # Red-Yellow-Green colormap\n",
    "norm = plt.Normalize(vmin=0, vmax=1)  # Normalize NDVI values to [0, 1]\n",
    "\n",
    "# Compute colors for each NDVI value\n",
    "ndvi_colors = [mpl_colors.rgb2hex(cmap(norm(val))) for val in ndvi_data.flatten()]\n",
    "\n",
    "# Add GeoJSON layer with precomputed colors\n",
    "folium.Choropleth(\n",
    "    geo_data=AOI_geojson,\n",
    "    data=ndvi_data.flatten(),\n",
    "    key_on='feature.id',  # Adjust based on your GeoJSON structure\n",
    "    fill_color='RdYlGn',  # Use precomputed colors\n",
    "    fill_opacity=0.7,\n",
    "    line_opacity=0.2,\n",
    "    legend_name='NDVI',\n",
    ").add_to(folium_map)\n",
    "\n",
    "# Display the map\n",
    "folium_map"
   ]
  },
  {
   "cell_type": "code",
   "execution_count": null,
   "id": "9b042333-8f41-466b-a945-5447b758a1ba",
   "metadata": {},
   "outputs": [],
   "source": [
    "# Convert the GeoDataFrame to a JSON-serializable format\n",
    "geojson_data = join.to_crs(epsg='4326').to_json()\n",
    "\n",
    "# Add the GeoJson layer to the map\n",
    "folium.GeoJson(\n",
    "    geojson_data,\n",
    "    name='Agricultural Land and Protected Areas'\n",
    ").add_to(folium_map)\n",
    "\n",
    "# Display the map\n",
    "folium_map"
   ]
  },
  {
   "cell_type": "code",
   "execution_count": null,
   "id": "39984b62-e8fc-4a51-a99d-420131185706",
   "metadata": {},
   "outputs": [],
   "source": [
    "# Save the map to an HTML file\n",
    "folium_map.save('Data_files/ndvi_with_shapefile_map.html')"
   ]
  },
  {
   "cell_type": "code",
   "execution_count": null,
   "id": "74fe9752-e467-40bd-9b2a-f1edf0602836",
   "metadata": {},
   "outputs": [],
   "source": [
    "join.explore('DESC_', popup=True, legend=False, cmap='viridis')"
   ]
  }
 ],
 "metadata": {
  "kernelspec": {
   "display_name": "Python 3 (ipykernel)",
   "language": "python",
   "name": "python3"
  },
  "language_info": {
   "codemirror_mode": {
    "name": "ipython",
    "version": 3
   },
   "file_extension": ".py",
   "mimetype": "text/x-python",
   "name": "python",
   "nbconvert_exporter": "python",
   "pygments_lexer": "ipython3",
   "version": "3.12.3"
  }
 },
 "nbformat": 4,
 "nbformat_minor": 5
}
