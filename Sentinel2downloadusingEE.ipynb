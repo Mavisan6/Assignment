{
 "cells": [
  {
   "cell_type": "code",
   "execution_count": null,
   "id": "ca7c6be3-b321-4bf7-8217-ab63da9eb16a",
   "metadata": {},
   "outputs": [],
   "source": [
    "palette = ['red', 'yellow', 'green']\n",
    "ndvi_parameters = {'min': 0,\n",
    "                   'max': 1,\n",
    "                   'dimensions': 512,\n",
    "                   'palette': palette,\n",
    "                   'region': AOI_wgs84}\n",
    "folium_map.addLayer(NDVI, ndvi_parameters)"
   ]
  }
 ],
 "metadata": {
  "kernelspec": {
   "display_name": "Python 3 (ipykernel)",
   "language": "python",
   "name": "python3"
  },
  "language_info": {
   "codemirror_mode": {
    "name": "ipython",
    "version": 3
   },
   "file_extension": ".py",
   "mimetype": "text/x-python",
   "name": "python",
   "nbconvert_exporter": "python",
   "pygments_lexer": "ipython3",
   "version": "3.12.3"
  }
 },
 "nbformat": 4,
 "nbformat_minor": 5
}
